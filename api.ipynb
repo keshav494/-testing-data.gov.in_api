{
 "cells": [
  {
   "cell_type": "code",
   "execution_count": null,
   "id": "5d9f33b7",
   "metadata": {},
   "outputs": [],
   "source": [
    "import os\n",
    "import pandas as pd \n",
    "import requests\n",
    "from api_key import apikey\n",
    "import matplotlib.pyplot as plt"
   ]
  },
  {
   "cell_type": "code",
   "execution_count": null,
   "id": "9d88ddaa",
   "metadata": {},
   "outputs": [],
   "source": [
    "class FredPy:\n",
    "\n",
    "    def __init__(self, token=None):\n",
    "        self.token = token\n",
    "        self.url = f\"https://api.stlouisfed.org/fred/series/observations?\"+ \\\n",
    "                    \"series_id={seriesID}&api_key={key}&file_type=json&\" + \\\n",
    "                    \"observation_start={start}&observation_end={end}&units={units}\"\n",
    "\n",
    "    def set_token(self, token):\n",
    "        self.token = token\n",
    "\n",
    "    def get_series(self, seriesID, start, end, units):\n",
    "        url_formatted = self.url.format(seriesID=seriesID, key=self.token, start=start, end=end, units=units)\n",
    "        response = requests.get(url_formatted)\n",
    "        if (self.token):\n",
    "            if (response.status_code == 200):\n",
    "                data = pd.DataFrame(response.json()[\"observations\"])[[\"date\",\"value\"]]\\\n",
    "                                        .assign(date=lambda cols: pd.to_datetime(cols['date']))\\\n",
    "                                        .assign(value= lambda cols: cols['value'].astype(float))\\\n",
    "                                        .rename(columns={\"value\":seriesID})\n",
    "                return data\n",
    "            else:\n",
    "                raise Exception(\"Bad response from the API, status_code = {}\". format(response.status_code))\n",
    "        else:\n",
    "            raise Exception(\"API token not configured correctly\")"
   ]
  },
  {
   "cell_type": "code",
   "execution_count": null,
   "id": "3ed1cf62",
   "metadata": {},
   "outputs": [],
   "source": [
    "#Initiate Fredpy object\n",
    "fredpy = FredPy()\n",
    "\n",
    "#Set the API key\n",
    "fredpy.set_token(apikey)\n",
    "\n",
    "gdp_data = fredpy.get_series (seriesID=\"GDP\",\n",
    "                          start=\"2020-01-01\",\n",
    "                          end=\"2025-07-03\",\n",
    "                          units=\"pc1\")\n",
    "\n",
    "unemp_data = fredpy.get_series (seriesID=\"UNRATE\",\n",
    "                          start=\"2020-01-01\",\n",
    "                          end=\"2025-07-03\",\n",
    "                          units=\"lin\")\n",
    "\n",
    "gdp_data\n",
    "unemp_data"
   ]
  },
  {
   "cell_type": "code",
   "execution_count": null,
   "id": "e0c4f3a0",
   "metadata": {},
   "outputs": [],
   "source": [
    "#visualize\n",
    "plt.figure(figsize=(12,7))\n",
    "plt.plot(gdp_data[\"date\"], gdp_data[\"GDP\"], label= \"GDP\")\n",
    "plt.plot(unemp_data[\"date\"], unemp_data[\"UNRATE\"], label=\"Unemp_rate\")\n",
    "plt.legend()\n",
    "plt.title(\"Data from FRED API\")\n",
    "plt.show()"
   ]
  }
 ],
 "metadata": {
  "kernelspec": {
   "display_name": "Python 3",
   "language": "python",
   "name": "python3"
  },
  "language_info": {
   "codemirror_mode": {
    "name": "ipython",
    "version": 3
   },
   "file_extension": ".py",
   "mimetype": "text/x-python",
   "name": "python",
   "nbconvert_exporter": "python",
   "pygments_lexer": "ipython3",
   "version": "3.10.6"
  }
 },
 "nbformat": 4,
 "nbformat_minor": 5
}
